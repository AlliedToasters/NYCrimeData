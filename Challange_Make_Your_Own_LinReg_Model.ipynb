{
 "cells": [
  {
   "cell_type": "markdown",
   "metadata": {},
   "source": [
    "<H1>Challenge: Make Your Own Regression Model</H1><br><br>\n",
    "This project uses the New York State crime statistics data for 2013, taken from <a href='https://ucr.fbi.gov/crime-in-the-u.s/2013/crime-in-the-u.s.-2013/tables/table-8/table-8-state-cuts/table_8_offenses_known_to_law_enforcement_new_york_by_city_2013.xls'>the FBI UCR repository</a>.<br><br>\n",
    "\n",
    "After hours of tinkering with features, I was able to come up with a model that predicts property crime per capita to within .2% with a nice residual distribution. For brevity, I've cut all the tinkering out of this notebook and I'll just explain the features I ended up using."
   ]
  },
  {
   "cell_type": "code",
   "execution_count": null,
   "metadata": {
    "collapsed": true
   },
   "outputs": [],
   "source": [
    "import pandas as pd\n",
    "import numpy as np\n",
    "import matplotlib.pyplot as plt\n",
    "import seaborn as sns\n",
    "from sklearn import linear_model\n",
    "%matplotlib inline\n",
    "#df[['cbrt_EPCpc', 'Murd', 'Violent crime_per_capita']] WORKS GREAT!"
   ]
  },
  {
   "cell_type": "code",
   "execution_count": null,
   "metadata": {
    "collapsed": true
   },
   "outputs": [],
   "source": [
    "df = pd.read_excel('clean_crime_data.xlsx')"
   ]
  },
  {
   "cell_type": "markdown",
   "metadata": {},
   "source": [
    "Before engineering most features, I transform them to per capita crime rates.\n",
    "<br><br>\n",
    "First, following some handy advice from the <a href'https://statswithcats.wordpress.com/2010/11/21/fifty-ways-to-fix-your-data/'> stats with cats blog</a>, I apply a cube root transform to the target variable (Property crime per capita) to make it look more normal."
   ]
  },
  {
   "cell_type": "code",
   "execution_count": null,
   "metadata": {},
   "outputs": [],
   "source": [
    "df['Property crime_per_capita'] = df['Property crime']/df.Population\n",
    "df['cbrt_PC'] = np.cbrt(df['Property crime_per_capita'])\n",
    "plt.hist(df['cbrt_PC']);"
   ]
  },
  {
   "cell_type": "markdown",
   "metadata": {},
   "source": [
    "That looks kind of normal! Now I'll build my first input feature, called 'Murd', which is a binary feature describing if any murders were reported."
   ]
  },
  {
   "cell_type": "code",
   "execution_count": null,
   "metadata": {
    "collapsed": true
   },
   "outputs": [],
   "source": [
    "df['Murd'] = np.where((df['Murder and nonnegligent manslaughter'] > 0), 1, 0)"
   ]
  },
  {
   "cell_type": "markdown",
   "metadata": {},
   "source": [
    "The next feature takes advantage of the fact that \"property crimes\" are the sum of a number of other types of crimes. I add all of those types of crimes together. One problem is that the data set includes inconsistent data on arson; many cities have null fields for this category, but the metadata indicates this does not mean they have zero arson. I found a strong linear correlation between burglary and arson, so I built a quick-and-dirty linear regression to fill in the gaps in our arson data, and then add all of the relevant property crimes together, finally dividing by population, for a per-capita property crime estimate. Of course, I need to take the cube root to match the transform I did on the outcome variable"
   ]
  },
  {
   "cell_type": "code",
   "execution_count": null,
   "metadata": {},
   "outputs": [],
   "source": [
    "df['known_arson'] = np.where((df['Arson3'].notnull()), df['Arson3'], 0)\n",
    "df['has_arson'] = np.where((df['Arson3'] > 0), 1, 0)\n",
    "ars = df[df['has_arson'] == 1]\n",
    "ars_regr = linear_model.LinearRegression()\n",
    "burgs = ars.Burglary.values.reshape(-1, 1)\n",
    "arsn = ars.known_arson.values.reshape(-1, 1)\n",
    "ars_regr.fit(burgs, arsn)\n",
    "ars_regr.score(burgs, arsn)\n",
    "df['pred_arson'] = ars_regr.predict(df['Burglary'].values.reshape(-1, 1))\n",
    "df['pred_arson'] = np.where((df['pred_arson'] < 0), 0, 1)\n",
    "df['est_arson'] = np.where((df['has_arson'] == 1), df['Arson3'], df['pred_arson'])\n",
    "df['est_arson_per_capita'] = df['est_arson']/df.Population\n",
    "df['est_PC_per_capita'] = (df['Burglary'] + df['Larceny-theft'] + df['Robbery'] + df['Motor vehicle theft'] + df['est_arson'])/df.Population\n",
    "df['cbrt_EPCpc'] = np.cbrt(df['est_PC_per_capita'])"
   ]
  },
  {
   "cell_type": "markdown",
   "metadata": {},
   "source": [
    "The last helpful feature is simply violent crime per capita. This takes into account all of the non-property crimes. This feature helps the most without any transformations."
   ]
  },
  {
   "cell_type": "code",
   "execution_count": null,
   "metadata": {
    "collapsed": true
   },
   "outputs": [],
   "source": [
    "df['Violent crime_per_capita'] = df['Violent crime']/df.Population"
   ]
  },
  {
   "cell_type": "code",
   "execution_count": null,
   "metadata": {},
   "outputs": [],
   "source": [
    "#What the heck. Let's make a model.\n",
    "from sklearn import linear_model\n",
    "regr = linear_model.LinearRegression()\n",
    "train = df[['cbrt_EPCpc', 'Violent crime_per_capita', 'Murd']]\n",
    "target = df['cbrt_PC']\n",
    "regr.fit(train, target);\n",
    "print('\\nR-squared:')\n",
    "print(regr.score(train, target))\n",
    "predictions = regr.predict(df[['cbrt_EPCpc', 'Violent crime_per_capita', 'Murd']])\n",
    "pred = np.power(predictions, 3)\n",
    "targ = df['Property crime_per_capita']"
   ]
  },
  {
   "cell_type": "code",
   "execution_count": null,
   "metadata": {
    "collapsed": true
   },
   "outputs": [],
   "source": [
    "predictions = regr.predict(df[['cbrt_EPCpc', 'Violent crime_per_capita', 'Murd']])\n",
    "pred = np.power(predictions, 3) #transform predictions back to regular property crimes per capita\n",
    "targ = df['Property crime_per_capita']"
   ]
  },
  {
   "cell_type": "code",
   "execution_count": null,
   "metadata": {
    "collapsed": true
   },
   "outputs": [],
   "source": [
    "residual = targ - pred"
   ]
  },
  {
   "cell_type": "code",
   "execution_count": null,
   "metadata": {},
   "outputs": [],
   "source": [
    "plt.hist(residual); #Residual looks pretty normal!"
   ]
  },
  {
   "cell_type": "code",
   "execution_count": null,
   "metadata": {},
   "outputs": [],
   "source": [
    "plt.scatter(x=pred, y=residual); #Looks pretty homoscedastic!"
   ]
  }
 ],
 "metadata": {
  "kernelspec": {
   "display_name": "Python 3",
   "language": "python",
   "name": "python3"
  },
  "language_info": {
   "codemirror_mode": {
    "name": "ipython",
    "version": 3
   },
   "file_extension": ".py",
   "mimetype": "text/x-python",
   "name": "python",
   "nbconvert_exporter": "python",
   "pygments_lexer": "ipython3",
   "version": "3.6.1"
  }
 },
 "nbformat": 4,
 "nbformat_minor": 2
}

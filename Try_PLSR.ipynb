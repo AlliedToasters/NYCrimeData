{
 "cells": [
  {
   "cell_type": "markdown",
   "metadata": {},
   "source": [
    "<H1>Last Iteration of Property Crime Regrssion: PLSR</H1><br><br>\n",
    "This project uses the crime statistics data, taken from <a href='https://ucr.fbi.gov/crime-in-the-u.s/2013/crime-in-the-u.s.-2013/tables/table-8/table-8-state-cuts/table_8_offenses_known_to_law_enforcement_new_york_by_city_2013.xls'>the FBI UCR repository</a>.<br><br>\n",
    "\n",
    "This challenge is a progression of <a href='https://github.com/AlliedToasters/NYCrimeData/blob/master/My_First_LinReg.ipynb'>my first linear regression model</a>. After cross validating my model with other states' crime data, it's become clear that <a href='https://github.com/AlliedToasters/NYCrimeData/blob/master/Evaluate_and_Iterate_Reg.ipynb'>my model can be improved</a>. I'll try using Partial Least Squares Regression (PLSR) to dial it in a bit better.<br><br>\n",
    "<H2>Some New Features</H2><br><br>\n",
    "I've been messing around with this data for some time now. I'll try to make some new features to mix things up. As before, I'll go with crime rates per capita.<br><br>"
   ]
  },
  {
   "cell_type": "code",
   "execution_count": 50,
   "metadata": {
    "collapsed": true
   },
   "outputs": [],
   "source": [
    "import pandas as pd\n",
    "import numpy as np\n",
    "import matplotlib.pyplot as plt\n",
    "import seaborn as sns\n",
    "from sklearn import linear_model, metrics\n",
    "import statsmodels.formula.api as smf\n",
    "from sklearn.cross_decomposition import PLSRegression\n",
    "%matplotlib inline\n",
    "sns.set_context(font_scale=2)"
   ]
  },
  {
   "cell_type": "code",
   "execution_count": 51,
   "metadata": {
    "collapsed": true
   },
   "outputs": [],
   "source": [
    "data = pd.read_excel('clean_crime_data.xlsx')"
   ]
  },
  {
   "cell_type": "markdown",
   "metadata": {},
   "source": [
    "This time around, I make a function that builds the features to save time."
   ]
  },
  {
   "cell_type": "code",
   "execution_count": 52,
   "metadata": {},
   "outputs": [],
   "source": [
    "def make_features(df):\n",
    "    df['PC_per_capita'] = df['Property crime']/df.Population\n",
    "\n",
    "    df['cbrt_PCpc'] = np.cbrt(df.PC_per_capita) #Outcome variable, cube root to get normal-ish distribution\n",
    "    \n",
    "    #Estimated arson values:\n",
    "    df['known_arson'] = np.where((df['Arson3'].notnull()), df['Arson3'], 0)\n",
    "    df['has_arson'] = np.where((df['Arson3'] > 0), 1, 0)\n",
    "    ars = df[df['has_arson'] == 1]\n",
    "\n",
    "    ars_regr = linear_model.LinearRegression()\n",
    "    murds = ars['Murder and nonnegligent manslaughter'].values.reshape(-1, 1)\n",
    "    arsn = ars.known_arson.values.reshape(-1, 1)\n",
    "    ars_regr.fit(murds, arsn) #fit data\n",
    "    ars_regr.score(murds, arsn)\n",
    "    df['pred_arson'] = ars_regr.predict(df['Murder and nonnegligent manslaughter'].values.reshape(-1, 1)) #predict\n",
    "    df['pred_arson'] = np.where((df['pred_arson'] < 0), 0, 1) #When regression gives negative values, set to zero\n",
    "    df['est_arson'] = np.where((df['has_arson'] == 1), df['Arson3'], df['pred_arson']) \n",
    "    #use real numbers where available.\n",
    "\n",
    "    df['est_arson_per_capita'] = df['est_arson']/df.Population #per capita\n",
    "    df['frthrt_ars_pc'] = np.power((df['est_arson_per_capita']), (1/4)) #And take a root transform to make things tidy\n",
    "    df['Murd_pc'] = df['Murder and nonnegligent manslaughter']/df.Population #further transforms don't really help\n",
    "    df['has_Murd'] = np.where((df.Murd_pc > 0), 1, 0) #Many cities don't, so I'll use this feature too.\n",
    "    df['Rob_pc'] = df['Robbery']/df.Population\n",
    "    df['trans_Rob'] = np.cbrt(df['Rob_pc']) #Cube root helps\n",
    "    df['Aggr_pc'] = df['Aggravated assault']/df.Population\n",
    "    df['trans_Aggr'] = np.cbrt(df.Aggr_pc) #Cube root helps\n",
    "    df['trans_pop'] = np.log(df.Population) #Gives slight correlation\n",
    "    #These binary features were statistically significant the last time around:\n",
    "    df['is_Big'] = np.where((df.Population > 1000000), 1, 0)\n",
    "    df['has_VC'] = np.where((df['Violent crime'] == 0), 0, 1)\n",
    "    return df"
   ]
  },
  {
   "cell_type": "code",
   "execution_count": 53,
   "metadata": {
    "collapsed": true
   },
   "outputs": [],
   "source": [
    "data = make_features(data)"
   ]
  },
  {
   "cell_type": "markdown",
   "metadata": {
    "collapsed": true
   },
   "source": [
    "Now we have features that capture all of the relevant information about violent crimes that I can use to predict property crime. I'll train the model and then reduce the number of features with PLSR. Hopefully this will capture most of the important information about the violent crime rates while reducing the noise.<br><br>\n",
    "The idea with PLSR is to reduce or remove the negative effects of colinearity between. These geatures seem like they should all correlate so come degree."
   ]
  },
  {
   "cell_type": "code",
   "execution_count": 54,
   "metadata": {},
   "outputs": [
    {
     "data": {
      "image/png": "[encoded data removed]",
      "text/plain": [
       "<matplotlib.figure.Figure at 0x7fac6b09e438>"
      ]
     },
     "metadata": {},
     "output_type": "display_data"
    }
   ],
   "source": [
    "input_features = ['Murd_pc', 'has_Murd', 'trans_Rob', 'trans_Aggr', 'trans_pop', 'is_Big', 'has_VC']\n",
    "sns.heatmap(data[input_features].corr());"
   ]
  },
  {
   "cell_type": "markdown",
   "metadata": {},
   "source": [
    "Quite a bit of correlation. Let's see what PLSR can do for us."
   ]
  },
  {
   "cell_type": "code",
   "execution_count": 55,
   "metadata": {},
   "outputs": [],
   "source": [
    "target = data.cbrt_PCpc"
   ]
  },
  {
   "cell_type": "code",
   "execution_count": 56,
   "metadata": {},
   "outputs": [
    {
     "name": "stdout",
     "output_type": "stream",
     "text": [
      "All features score: 0.444498246606262\n"
     ]
    }
   ],
   "source": [
    "regr = linear_model.LinearRegression()\n",
    "regr.fit(data[input_features], target)\n",
    "print('All features score: {}'.format(regr.score(data[input_features], target))) #About the same as before."
   ]
  },
  {
   "cell_type": "code",
   "execution_count": 57,
   "metadata": {},
   "outputs": [
    {
     "name": "stdout",
     "output_type": "stream",
     "text": [
      "plsr: 0.4397201098764729\n"
     ]
    }
   ],
   "source": [
    "plsr_reg = PLSRegression(n_components=4, scale=False) #Just four components get us quite close.\n",
    "input_array = np.array(data[input_features])\n",
    "plsr_reg.fit(input_array, np.array(target))\n",
    "print('plsr: {}'.format(plsr_reg.score(data[input_features], target)))"
   ]
  },
  {
   "cell_type": "markdown",
   "metadata": {},
   "source": [
    "Each of the first four components increase the R-squared score, so we'll roll with four components for now. <br><br>\n",
    "I start by running the cross-validation function I used before, modifying it to generate our four-compontent PLSR model."
   ]
  },
  {
   "cell_type": "code",
   "execution_count": 58,
   "metadata": {
    "collapsed": true
   },
   "outputs": [],
   "source": [
    "def cross_validate(data, train, target, folds=10):\n",
    "    \"\"\"Takes a pd.DataFrame, list of training variables, and a list of target variables.\n",
    "    Optional keyword argument folds specifies desired number of folds/holdout groups.\n",
    "    Does cross validation test with n number of folds and returns a list of Rsquared values\n",
    "    equal in length to the number of folds. Uses smf.ols for regression statistics.\n",
    "    \"\"\"\n",
    "    n = int(folds) #n tracks desired number of folds\n",
    "    folds = dict() #will track selected indices\n",
    "    inds = pd.Series(data.index) #use series type for .sample() method\n",
    "    selected = [] #will track indices already selected\n",
    "    mod = len(data)%n #handle remainder of len/folds\n",
    "    group_size = int((len(data)-mod)/n) #ensures proper integer group size\n",
    "    for fold in range(1, n+1):  #This loop selects random samples for each group\n",
    "        if fold == n:\n",
    "            group_size += mod #add remainder to last group\n",
    "        sample = inds[~inds.index.isin(selected)].sample(group_size) #excluded indices already selected\n",
    "        selected += list(sample)\n",
    "        name = 'sample_{}'.format(fold)\n",
    "        folds[name] = sample\n",
    "    scores = [] #This will be output\n",
    "    for sample in folds:\n",
    "        learn = data[~data.index.isin(folds[sample])][train] \n",
    "        targ = data[~data.index.isin(folds[sample])][target] #fit regression on all indices but fold\n",
    "        test_in = data[data.index.isin(folds[sample])][train]\n",
    "        test_targ = data[data.index.isin(folds[sample])][target] #holdout group for scoring\n",
    "        reg = PLSRegression(n_components=4, scale=False)\n",
    "        reg.fit(learn, targ) #fit model\n",
    "        scores += [reg.score(test_in, test_targ)] #score model and add to 'scores'\n",
    "    return scores"
   ]
  },
  {
   "cell_type": "code",
   "execution_count": 59,
   "metadata": {},
   "outputs": [
    {
     "data": {
      "text/plain": [
       "[0.42405486924455826,\n",
       " 0.45122296920138938,\n",
       " 0.41311421679606786,\n",
       " 0.26098050385454408,\n",
       " 0.40685963582156026]"
      ]
     },
     "execution_count": 59,
     "metadata": {},
     "output_type": "execute_result"
    }
   ],
   "source": [
    "cross_validate(data, input_features, 'cbrt_PCpc', folds=5)"
   ]
  },
  {
   "cell_type": "markdown",
   "metadata": {},
   "source": [
    "I still see a lot of variance, looking very similar to before.<br><br>\n",
    "Now let's see how it does on the other data sets."
   ]
  },
  {
   "cell_type": "code",
   "execution_count": 60,
   "metadata": {
    "collapsed": true
   },
   "outputs": [],
   "source": [
    "co_data = pd.read_excel('CO_crime_2013.xlsx')"
   ]
  },
  {
   "cell_type": "code",
   "execution_count": 61,
   "metadata": {},
   "outputs": [],
   "source": [
    "columns = list(co_data.columns)\n",
    "columns[2] = 'Violent crime'\n",
    "columns[3] = 'Murder and nonnegligent manslaughter'\n",
    "columns[7] = 'Aggravated assault'\n",
    "columns[8] = 'Property crime'\n",
    "columns[12] = 'Arson3'\n",
    "co_data.columns = columns #fix column titles"
   ]
  },
  {
   "cell_type": "code",
   "execution_count": 62,
   "metadata": {},
   "outputs": [],
   "source": [
    "co_data = make_features(co_data)"
   ]
  },
  {
   "cell_type": "code",
   "execution_count": 63,
   "metadata": {},
   "outputs": [
    {
     "data": {
      "text/plain": [
       "0.37145168587525379"
      ]
     },
     "execution_count": 63,
     "metadata": {},
     "output_type": "execute_result"
    }
   ],
   "source": [
    "plsr_reg.score(co_data[input_features], co_data.cbrt_PCpc)"
   ]
  },
  {
   "cell_type": "markdown",
   "metadata": {},
   "source": [
    "That's about .11 better than my previous model did on this data set! I'll take it! Now let's look at the NY 2014 data:"
   ]
  },
  {
   "cell_type": "code",
   "execution_count": 64,
   "metadata": {},
   "outputs": [],
   "source": [
    "NY_2014 = pd.read_excel('NY_crime_2014.xlsx')\n",
    "columns = list(NY_2014.columns)\n",
    "columns[2] = 'Violent crime'\n",
    "columns[3] = 'Murder and nonnegligent manslaughter'\n",
    "columns[7] = 'Aggravated assault'\n",
    "columns[8] = 'Property crime'\n",
    "columns[12] = 'Arson3'\n",
    "NY_2014.columns = columns #fix column titles again"
   ]
  },
  {
   "cell_type": "code",
   "execution_count": 65,
   "metadata": {},
   "outputs": [],
   "source": [
    "NY_2014 = make_features(NY_2014[NY_2014['Murder and nonnegligent manslaughter'].notnull()].copy())"
   ]
  },
  {
   "cell_type": "code",
   "execution_count": 69,
   "metadata": {},
   "outputs": [
    {
     "data": {
      "text/plain": [
       "0.28897136549685365"
      ]
     },
     "execution_count": 69,
     "metadata": {},
     "output_type": "execute_result"
    }
   ],
   "source": [
    "plsr_reg.score(NY_2014[NY_2014.cbrt_PCpc.notnull()][input_features], NY_2014[NY_2014.cbrt_PCpc.notnull()].cbrt_PCpc)"
   ]
  },
  {
   "cell_type": "markdown",
   "metadata": {},
   "source": [
    "This iteration of the regression did very slightly worse than the previous one on predicting the 2014 NY property crime rate."
   ]
  },
  {
   "cell_type": "markdown",
   "metadata": {},
   "source": [
    "<H2>Conclusion</H2><br><br>\n",
    "Using PLSR with four components created a model that performed much better outside of the state of New York. This suggests that my original model was hypersensitive to New York State data, overfitting there, while producing bad results outside of the state of New York.<br><br>\n",
    "This suggests that this last iteration of my property crime prediction regression is the most valuable at predicting crime across many states."
   ]
  },
  {
   "cell_type": "code",
   "execution_count": null,
   "metadata": {
    "collapsed": true
   },
   "outputs": [],
   "source": []
  }
 ],
 "metadata": {
  "kernelspec": {
   "display_name": "Python 3",
   "language": "python",
   "name": "python3"
  },
  "language_info": {
   "codemirror_mode": {
    "name": "ipython",
    "version": 3
   },
   "file_extension": ".py",
   "mimetype": "text/x-python",
   "name": "python",
   "nbconvert_exporter": "python",
   "pygments_lexer": "ipython3",
   "version": "3.6.1"
  }
 },
 "nbformat": 4,
 "nbformat_minor": 2
}
